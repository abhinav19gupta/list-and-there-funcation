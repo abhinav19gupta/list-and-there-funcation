{
 "cells": [
  {
   "cell_type": "code",
   "execution_count": 21,
   "id": "790b0c9c",
   "metadata": {},
   "outputs": [],
   "source": [
    "# creating a list\n",
    "fruits=[\"apple\",\"cherry\",\"banana\"]"
   ]
  },
  {
   "cell_type": "code",
   "execution_count": 22,
   "id": "2499facb",
   "metadata": {},
   "outputs": [],
   "source": [
    "#Appending a new element in list\n",
    "fruits.append(\"orange\")"
   ]
  },
  {
   "cell_type": "code",
   "execution_count": 23,
   "id": "66e95961",
   "metadata": {},
   "outputs": [
    {
     "data": {
      "text/plain": [
       "['apple', 'cherry', 'banana', 'orange']"
      ]
     },
     "execution_count": 23,
     "metadata": {},
     "output_type": "execute_result"
    }
   ],
   "source": [
    "# Result of Appending a list\n",
    "fruits"
   ]
  },
  {
   "cell_type": "code",
   "execution_count": 24,
   "id": "a1172266",
   "metadata": {},
   "outputs": [],
   "source": [
    "#sorting a list\n",
    "fruits.sort()"
   ]
  },
  {
   "cell_type": "code",
   "execution_count": 25,
   "id": "9683b121",
   "metadata": {},
   "outputs": [
    {
     "data": {
      "text/plain": [
       "['apple', 'banana', 'cherry', 'orange']"
      ]
     },
     "execution_count": 25,
     "metadata": {},
     "output_type": "execute_result"
    }
   ],
   "source": [
    "# result of sorting list\n",
    "fruits"
   ]
  },
  {
   "cell_type": "code",
   "execution_count": 26,
   "id": "18b447cc",
   "metadata": {},
   "outputs": [],
   "source": [
    "# using a reverse method to reverse a lis\n",
    "fruits.reverse()"
   ]
  },
  {
   "cell_type": "code",
   "execution_count": 27,
   "id": "3048d259",
   "metadata": {},
   "outputs": [
    {
     "data": {
      "text/plain": [
       "['orange', 'cherry', 'banana', 'apple']"
      ]
     },
     "execution_count": 27,
     "metadata": {},
     "output_type": "execute_result"
    }
   ],
   "source": [
    "# result of reversing a list\n",
    "fruits"
   ]
  },
  {
   "cell_type": "code",
   "execution_count": 28,
   "id": "a76d1370",
   "metadata": {},
   "outputs": [],
   "source": [
    "#removin a banana from list\n",
    "fruits.remove(\"banana\")"
   ]
  },
  {
   "cell_type": "code",
   "execution_count": 29,
   "id": "b4c089d8",
   "metadata": {},
   "outputs": [
    {
     "data": {
      "text/plain": [
       "['orange', 'cherry', 'apple']"
      ]
     },
     "execution_count": 29,
     "metadata": {},
     "output_type": "execute_result"
    }
   ],
   "source": [
    "#result of removing a list\n",
    "fruits"
   ]
  },
  {
   "cell_type": "code",
   "execution_count": 9,
   "id": "323f913d",
   "metadata": {},
   "outputs": [
    {
     "data": {
      "text/plain": [
       "'cherry'"
      ]
     },
     "execution_count": 9,
     "metadata": {},
     "output_type": "execute_result"
    }
   ],
   "source": [
    "#poping a index one element\n",
    "fruits.pop(1)"
   ]
  },
  {
   "cell_type": "code",
   "execution_count": 10,
   "id": "a628fa68",
   "metadata": {},
   "outputs": [
    {
     "data": {
      "text/plain": [
       "['orange', 'apple']"
      ]
     },
     "execution_count": 10,
     "metadata": {},
     "output_type": "execute_result"
    }
   ],
   "source": [
    "#result of list after poping a list\n",
    "fruits"
   ]
  },
  {
   "cell_type": "code",
   "execution_count": 11,
   "id": "98770e7e",
   "metadata": {},
   "outputs": [],
   "source": [
    "# insert a element at index number 1\n",
    "fruits.insert(1,\"gauva\")"
   ]
  },
  {
   "cell_type": "code",
   "execution_count": 12,
   "id": "30f87aeb",
   "metadata": {},
   "outputs": [
    {
     "data": {
      "text/plain": [
       "['orange', 'gauva', 'apple']"
      ]
     },
     "execution_count": 12,
     "metadata": {},
     "output_type": "execute_result"
    }
   ],
   "source": [
    "#result after indexing new element\n",
    "fruits"
   ]
  },
  {
   "cell_type": "code",
   "execution_count": 13,
   "id": "38d8cb18",
   "metadata": {},
   "outputs": [
    {
     "data": {
      "text/plain": [
       "0"
      ]
     },
     "execution_count": 13,
     "metadata": {},
     "output_type": "execute_result"
    }
   ],
   "source": [
    "#using index method to know at what index orange is it\n",
    "fruits.index(\"orange\")"
   ]
  },
  {
   "cell_type": "code",
   "execution_count": 14,
   "id": "2f1cc064",
   "metadata": {},
   "outputs": [],
   "source": [
    "#creating a new list\n",
    "other=[\"banana\",\"manago\"]"
   ]
  },
  {
   "cell_type": "code",
   "execution_count": 15,
   "id": "565ac8ab",
   "metadata": {},
   "outputs": [],
   "source": [
    "# using a extend method to put other element list in fruits\n",
    "fruits.extend(other)"
   ]
  },
  {
   "cell_type": "code",
   "execution_count": 16,
   "id": "10e01b77",
   "metadata": {},
   "outputs": [
    {
     "data": {
      "text/plain": [
       "['orange', 'gauva', 'apple', 'banana', 'manago']"
      ]
     },
     "execution_count": 16,
     "metadata": {},
     "output_type": "execute_result"
    }
   ],
   "source": [
    "#result of list after extend method\n",
    "fruits"
   ]
  },
  {
   "cell_type": "code",
   "execution_count": 17,
   "id": "0857dfc2",
   "metadata": {},
   "outputs": [],
   "source": [
    "#using append method to add element of list\n",
    "fruits.append(other)"
   ]
  },
  {
   "cell_type": "code",
   "execution_count": 18,
   "id": "97b861c4",
   "metadata": {},
   "outputs": [
    {
     "data": {
      "text/plain": [
       "['orange', 'gauva', 'apple', 'banana', 'manago', ['banana', 'manago']]"
      ]
     },
     "execution_count": 18,
     "metadata": {},
     "output_type": "execute_result"
    }
   ],
   "source": [
    "#result after appending a list \n",
    "fruits"
   ]
  },
  {
   "cell_type": "code",
   "execution_count": 20,
   "id": "f6e88bab",
   "metadata": {},
   "outputs": [
    {
     "name": "stdout",
     "output_type": "stream",
     "text": [
      "[('abhinav', 1), ('narayan', 2)]\n"
     ]
    }
   ],
   "source": [
    "# using zip method to merge to list \n",
    "name=[\"abhinav\",\"narayan\"]\n",
    "id=[1,2]\n",
    "mapped=zip(name,id)\n",
    "print(list(mapped))"
   ]
  },
  {
   "cell_type": "code",
   "execution_count": null,
   "id": "0365e3f2",
   "metadata": {},
   "outputs": [],
   "source": []
  }
 ],
 "metadata": {
  "kernelspec": {
   "display_name": "Python 3 (ipykernel)",
   "language": "python",
   "name": "python3"
  },
  "language_info": {
   "codemirror_mode": {
    "name": "ipython",
    "version": 3
   },
   "file_extension": ".py",
   "mimetype": "text/x-python",
   "name": "python",
   "nbconvert_exporter": "python",
   "pygments_lexer": "ipython3",
   "version": "3.9.7"
  }
 },
 "nbformat": 4,
 "nbformat_minor": 5
}
